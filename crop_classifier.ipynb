{
  "nbformat": 4,
  "nbformat_minor": 0,
  "metadata": {
    "colab": {
      "name": "crop_classifier.ipynb",
      "provenance": [],
      "collapsed_sections": [],
      "include_colab_link": true
    },
    "kernelspec": {
      "name": "python3",
      "display_name": "Python 3"
    },
    "accelerator": "GPU"
  },
  "cells": [
    {
      "cell_type": "markdown",
      "metadata": {
        "id": "view-in-github",
        "colab_type": "text"
      },
      "source": [
        "<a href=\"https://colab.research.google.com/github/rambir4git/sih/blob/master/crop_classifier.ipynb\" target=\"_parent\"><img src=\"https://colab.research.google.com/assets/colab-badge.svg\" alt=\"Open In Colab\"/></a>"
      ]
    },
    {
      "cell_type": "code",
      "metadata": {
        "id": "Hv4B5hOg3bIM",
        "colab_type": "code",
        "colab": {}
      },
      "source": [
        "!pip install google_images_download\n",
        "!apt install chromium-chromedriver\n",
        "!pip install tensorflow-gpu"
      ],
      "execution_count": 0,
      "outputs": []
    },
    {
      "cell_type": "code",
      "metadata": {
        "id": "RWFG2bcMqhpF",
        "colab_type": "code",
        "outputId": "95e0fc09-ce4c-4c27-89c0-73b9387c9b58",
        "colab": {
          "base_uri": "https://localhost:8080/",
          "height": 101
        }
      },
      "source": [
        "import tensorflow as tf\n",
        "import tensorflow_hub as hub\n",
        "import keras as keras\n",
        "\n",
        "import itertools\n",
        "import os\n",
        "import matplotlib.pylab as plt\n",
        "import numpy as np\n",
        "print(\"TF version:\", tf.__version__)\n",
        "print(\"Hub version:\", hub.__version__)\n",
        "print(\" Keras version:\", keras.__version__)\n",
        "tf.config.list_physical_devices('GPU')"
      ],
      "execution_count": 1,
      "outputs": [
        {
          "output_type": "stream",
          "text": [
            "TF version: 2.1.0\n",
            "Hub version: 0.7.0\n",
            " Keras version: 2.2.5\n"
          ],
          "name": "stdout"
        },
        {
          "output_type": "stream",
          "text": [
            "Using TensorFlow backend.\n"
          ],
          "name": "stderr"
        },
        {
          "output_type": "execute_result",
          "data": {
            "text/plain": [
              "[PhysicalDevice(name='/physical_device:GPU:0', device_type='GPU')]"
            ]
          },
          "metadata": {
            "tags": []
          },
          "execution_count": 1
        }
      ]
    },
    {
      "cell_type": "code",
      "metadata": {
        "id": "LRw8xYuVmPYw",
        "colab_type": "code",
        "outputId": "e7c9023b-a572-4148-99cd-5abd481047c6",
        "colab": {
          "base_uri": "https://localhost:8080/",
          "height": 121
        }
      },
      "source": [
        "from google.colab import drive\n",
        "drive.mount('gdrive')\n",
        "#4/vQGS-1x5Dqw4FUamuMe-VJW11SujC8C_WPWCijfQJjozaRelUetzAuw"
      ],
      "execution_count": 2,
      "outputs": [
        {
          "output_type": "stream",
          "text": [
            "Go to this URL in a browser: https://accounts.google.com/o/oauth2/auth?client_id=947318989803-6bn6qk8qdgf4n4g3pfee6491hc0brc4i.apps.googleusercontent.com&redirect_uri=urn%3aietf%3awg%3aoauth%3a2.0%3aoob&response_type=code&scope=email%20https%3a%2f%2fwww.googleapis.com%2fauth%2fdocs.test%20https%3a%2f%2fwww.googleapis.com%2fauth%2fdrive%20https%3a%2f%2fwww.googleapis.com%2fauth%2fdrive.photos.readonly%20https%3a%2f%2fwww.googleapis.com%2fauth%2fpeopleapi.readonly\n",
            "\n",
            "Enter your authorization code:\n",
            "··········\n",
            "Mounted at gdrive\n"
          ],
          "name": "stdout"
        }
      ]
    },
    {
      "cell_type": "code",
      "metadata": {
        "id": "f7JI1lLrW1g-",
        "colab_type": "code",
        "colab": {}
      },
      "source": [
        "#This code scraps Google Images\n",
        "from selenium import webdriver\n",
        "chrome_options = webdriver.ChromeOptions()\n",
        "chrome_options.add_argument('--headless')\n",
        "chrome_options.add_argument('--no-sandbox')\n",
        "chrome_options.add_argument('--disable-dev-shm-usage')\n",
        "wd = webdriver.Chrome('chromedriver',options=chrome_options)\n",
        "from google_images_download import google_images_download   #importing the library\n",
        "response = google_images_download.googleimagesdownload()   #class instantiation\n",
        "arguments = {\"keywords\":\"maze field\",\"limit\":1,\n",
        "             \"print_urls\":False,\n",
        "             \"chromedriver\":\"/usr/bin/chromedriver\",\n",
        "             \"output_directory\":\"gdrive/My Drive/Colab Notebooks/dataset\"}   #creating list of arguments\n",
        "paths = response.download(arguments)   #passing the arguments to the function"
      ],
      "execution_count": 0,
      "outputs": []
    },
    {
      "cell_type": "code",
      "metadata": {
        "id": "W61Jicy2unwt",
        "colab_type": "code",
        "outputId": "dc66e41a-9441-4e31-d327-855091828ab0",
        "colab": {
          "base_uri": "https://localhost:8080/",
          "height": 50
        }
      },
      "source": [
        "data_dir='gdrive/My Drive/Colab Notebooks/dataset'\n",
        "datagen_kwargs = dict(rescale=1./255, validation_split=.20)\n",
        "dataflow_kwargs = dict(target_size=(299,299), batch_size=32)\n",
        "\n",
        "valid_datagen = tf.keras.preprocessing.image.ImageDataGenerator(\n",
        "    **datagen_kwargs)\n",
        "valid_generator = valid_datagen.flow_from_directory(\n",
        "    data_dir, subset=\"validation\", shuffle=False, **dataflow_kwargs)\n",
        "\n",
        "train_datagen = tf.keras.preprocessing.image.ImageDataGenerator(\n",
        "      rotation_range=40,\n",
        "      horizontal_flip=True,\n",
        "      width_shift_range=0.2, height_shift_range=0.2,\n",
        "      shear_range=0.2, zoom_range=0.2,\n",
        "      **datagen_kwargs)\n",
        "train_generator = train_datagen.flow_from_directory(\n",
        "    data_dir, subset=\"training\", shuffle=True, **dataflow_kwargs)"
      ],
      "execution_count": 3,
      "outputs": [
        {
          "output_type": "stream",
          "text": [
            "Found 682 images belonging to 10 classes.\n",
            "Found 2744 images belonging to 10 classes.\n"
          ],
          "name": "stdout"
        }
      ]
    },
    {
      "cell_type": "code",
      "metadata": {
        "id": "1GoozlowvxCQ",
        "colab_type": "code",
        "outputId": "7d8bb84b-1bec-49ab-de78-2f6c34a1b033",
        "colab": {
          "base_uri": "https://localhost:8080/",
          "height": 252
        }
      },
      "source": [
        "model = tf.keras.Sequential([\n",
        "    hub.KerasLayer(\"https://tfhub.dev/google/imagenet/inception_v3/feature_vector/4\",\n",
        "                   trainable=True, arguments=dict(batch_norm_momentum=0.997)),\n",
        "    tf.keras.layers.Dropout(rate=0.2),\n",
        "    tf.keras.layers.Dense(train_generator.num_classes, activation='softmax',\n",
        "                          kernel_regularizer=tf.keras.regularizers.l2(0.0001))\n",
        "])\n",
        "model.build([None, 299, 299, 3])\n",
        "model.summary()"
      ],
      "execution_count": 4,
      "outputs": [
        {
          "output_type": "stream",
          "text": [
            "Model: \"sequential\"\n",
            "_________________________________________________________________\n",
            "Layer (type)                 Output Shape              Param #   \n",
            "=================================================================\n",
            "keras_layer (KerasLayer)     multiple                  21802784  \n",
            "_________________________________________________________________\n",
            "dropout (Dropout)            multiple                  0         \n",
            "_________________________________________________________________\n",
            "dense (Dense)                multiple                  20490     \n",
            "=================================================================\n",
            "Total params: 21,823,274\n",
            "Trainable params: 21,788,842\n",
            "Non-trainable params: 34,432\n",
            "_________________________________________________________________\n"
          ],
          "name": "stdout"
        }
      ]
    },
    {
      "cell_type": "code",
      "metadata": {
        "id": "IkkcaBRJwey_",
        "colab_type": "code",
        "colab": {}
      },
      "source": [
        "model.compile(\n",
        "  optimizer=tf.keras.optimizers.SGD(lr=0.005, momentum=0.9), \n",
        "  loss=tf.keras.losses.CategoricalCrossentropy(label_smoothing=0.1),\n",
        "  metrics=['accuracy'])"
      ],
      "execution_count": 0,
      "outputs": []
    },
    {
      "cell_type": "code",
      "metadata": {
        "id": "qpK5vIgnwnEf",
        "colab_type": "code",
        "outputId": "46168d95-01b9-4c63-8e98-fe9ccdf61913",
        "colab": {
          "base_uri": "https://localhost:8080/",
          "height": 826
        }
      },
      "source": [
        "steps_per_epoch = train_generator.samples // train_generator.batch_size\n",
        "validation_steps = valid_generator.samples // valid_generator.batch_size\n",
        "hist = model.fit_generator(\n",
        "    train_generator,\n",
        "    epochs=15, steps_per_epoch=steps_per_epoch,\n",
        "    validation_data=valid_generator,\n",
        "    validation_steps=validation_steps).history"
      ],
      "execution_count": 7,
      "outputs": [
        {
          "output_type": "stream",
          "text": [
            "WARNING:tensorflow:From <ipython-input-7-da9a9687af51>:7: Model.fit_generator (from tensorflow.python.keras.engine.training) is deprecated and will be removed in a future version.\n",
            "Instructions for updating:\n",
            "Please use Model.fit, which supports generators.\n"
          ],
          "name": "stdout"
        },
        {
          "output_type": "stream",
          "text": [
            "WARNING:tensorflow:From <ipython-input-7-da9a9687af51>:7: Model.fit_generator (from tensorflow.python.keras.engine.training) is deprecated and will be removed in a future version.\n",
            "Instructions for updating:\n",
            "Please use Model.fit, which supports generators.\n"
          ],
          "name": "stderr"
        },
        {
          "output_type": "stream",
          "text": [
            "WARNING:tensorflow:sample_weight modes were coerced from\n",
            "  ...\n",
            "    to  \n",
            "  ['...']\n"
          ],
          "name": "stdout"
        },
        {
          "output_type": "stream",
          "text": [
            "WARNING:tensorflow:sample_weight modes were coerced from\n",
            "  ...\n",
            "    to  \n",
            "  ['...']\n"
          ],
          "name": "stderr"
        },
        {
          "output_type": "stream",
          "text": [
            "Train for 85 steps, validate for 21 steps\n",
            "Epoch 1/15\n",
            "36/85 [===========>..................] - ETA: 8:05 - loss: 2.2693 - accuracy: 0.2963"
          ],
          "name": "stdout"
        },
        {
          "output_type": "stream",
          "text": [
            "/usr/local/lib/python3.6/dist-packages/PIL/Image.py:989: UserWarning: Palette images with Transparency expressed in bytes should be converted to RGBA images\n",
            "  \"Palette images with Transparency expressed in bytes should be \"\n"
          ],
          "name": "stderr"
        },
        {
          "output_type": "stream",
          "text": [
            "85/85 [==============================] - 1006s 12s/step - loss: 2.0354 - accuracy: 0.4185 - val_loss: 2.8526 - val_accuracy: 0.2619\n",
            "Epoch 2/15\n",
            "85/85 [==============================] - 138s 2s/step - loss: 1.5591 - accuracy: 0.6353 - val_loss: 2.0241 - val_accuracy: 0.4479\n",
            "Epoch 3/15\n",
            "85/85 [==============================] - 136s 2s/step - loss: 1.3310 - accuracy: 0.7485 - val_loss: 2.3689 - val_accuracy: 0.4182\n",
            "Epoch 4/15\n",
            "85/85 [==============================] - 137s 2s/step - loss: 1.1758 - accuracy: 0.8182 - val_loss: 2.0104 - val_accuracy: 0.4673\n",
            "Epoch 5/15\n",
            "85/85 [==============================] - 139s 2s/step - loss: 1.0469 - accuracy: 0.8827 - val_loss: 1.8871 - val_accuracy: 0.5536\n",
            "Epoch 6/15\n",
            "85/85 [==============================] - 138s 2s/step - loss: 0.9604 - accuracy: 0.9285 - val_loss: 1.8192 - val_accuracy: 0.5729\n",
            "Epoch 7/15\n",
            "85/85 [==============================] - 137s 2s/step - loss: 0.8994 - accuracy: 0.9602 - val_loss: 1.6695 - val_accuracy: 0.6414\n",
            "Epoch 8/15\n",
            "85/85 [==============================] - 136s 2s/step - loss: 0.8688 - accuracy: 0.9705 - val_loss: 1.6671 - val_accuracy: 0.6473\n",
            "Epoch 9/15\n",
            "85/85 [==============================] - 135s 2s/step - loss: 0.8383 - accuracy: 0.9816 - val_loss: 1.5992 - val_accuracy: 0.6711\n",
            "Epoch 10/15\n",
            "85/85 [==============================] - 134s 2s/step - loss: 0.8218 - accuracy: 0.9886 - val_loss: 1.6897 - val_accuracy: 0.6399\n",
            "Epoch 11/15\n",
            "85/85 [==============================] - 135s 2s/step - loss: 0.8101 - accuracy: 0.9923 - val_loss: 1.6210 - val_accuracy: 0.6562\n",
            "Epoch 12/15\n",
            "85/85 [==============================] - 136s 2s/step - loss: 0.7998 - accuracy: 0.9956 - val_loss: 1.5260 - val_accuracy: 0.7068\n",
            "Epoch 13/15\n",
            "85/85 [==============================] - 136s 2s/step - loss: 0.7932 - accuracy: 0.9948 - val_loss: 1.5420 - val_accuracy: 0.6920\n",
            "Epoch 14/15\n",
            "85/85 [==============================] - 135s 2s/step - loss: 0.7813 - accuracy: 0.9985 - val_loss: 1.4890 - val_accuracy: 0.7128\n",
            "Epoch 15/15\n",
            "85/85 [==============================] - 135s 2s/step - loss: 0.7812 - accuracy: 0.9978 - val_loss: 1.4882 - val_accuracy: 0.7143\n"
          ],
          "name": "stdout"
        }
      ]
    },
    {
      "cell_type": "code",
      "metadata": {
        "id": "BYQKBniW8zjU",
        "colab_type": "code",
        "outputId": "aa8ff29c-62cb-49ea-e8bb-5df03b3ef735",
        "colab": {
          "base_uri": "https://localhost:8080/",
          "height": 566
        }
      },
      "source": [
        "plt.figure()\n",
        "plt.ylabel(\"Loss (training and validation)\")\n",
        "plt.xlabel(\"Training Steps\")\n",
        "plt.ylim([0,2])\n",
        "plt.plot(hist[\"loss\"])\n",
        "plt.plot(hist[\"val_loss\"])\n",
        "\n",
        "plt.figure()\n",
        "plt.ylabel(\"Accuracy (training and validation)\")\n",
        "plt.xlabel(\"Training Steps\")\n",
        "plt.ylim([0,1])\n",
        "plt.plot(hist[\"accuracy\"])\n",
        "plt.plot(hist[\"val_accuracy\"])"
      ],
      "execution_count": 8,
      "outputs": [
        {
          "output_type": "execute_result",
          "data": {
            "text/plain": [
              "[<matplotlib.lines.Line2D at 0x7f54eb7b6ef0>]"
            ]
          },
          "metadata": {
            "tags": []
          },
          "execution_count": 8
        },
        {
          "output_type": "display_data",
          "data": {
            "image/png": "[encoded data removed]",
            "text/plain": [
              "<Figure size 432x288 with 1 Axes>"
            ]
          },
          "metadata": {
            "tags": []
          }
        },
        {
          "output_type": "display_data",
          "data": {
            "image/png": "[encoded data removed]",
            "text/plain": [
              "<Figure size 432x288 with 1 Axes>"
            ]
          },
          "metadata": {
            "tags": []
          }
        }
      ]
    },
    {
      "cell_type": "code",
      "metadata": {
        "id": "M8SLWXgP9IGZ",
        "colab_type": "code",
        "outputId": "336bdf86-c1f4-4865-b9f2-ac5748ceb616",
        "colab": {
          "base_uri": "https://localhost:8080/",
          "height": 205
        }
      },
      "source": [
        "saved_model_path = \"crop_model\"\n",
        "tf.saved_model.save(model, saved_model_path)\n",
        "label_map=train_generator.class_indices\n",
        "reverse_label_map = {v: k for k, v in label_map.items()}\n",
        "print(label_map)\n",
        "print(reverse_label_map)\n",
        "import json\n",
        "with open('labels.json', 'w', encoding='utf-8') as f:\n",
        "    json.dump(reverse_label_map, f, ensure_ascii=False, indent=0)"
      ],
      "execution_count": 9,
      "outputs": [
        {
          "output_type": "stream",
          "text": [
            "WARNING:tensorflow:From /usr/local/lib/python3.6/dist-packages/tensorflow_core/python/ops/resource_variable_ops.py:1786: calling BaseResourceVariable.__init__ (from tensorflow.python.ops.resource_variable_ops) with constraint is deprecated and will be removed in a future version.\n",
            "Instructions for updating:\n",
            "If using Keras pass *_constraint arguments to layers.\n"
          ],
          "name": "stdout"
        },
        {
          "output_type": "stream",
          "text": [
            "WARNING:tensorflow:From /usr/local/lib/python3.6/dist-packages/tensorflow_core/python/ops/resource_variable_ops.py:1786: calling BaseResourceVariable.__init__ (from tensorflow.python.ops.resource_variable_ops) with constraint is deprecated and will be removed in a future version.\n",
            "Instructions for updating:\n",
            "If using Keras pass *_constraint arguments to layers.\n"
          ],
          "name": "stderr"
        },
        {
          "output_type": "stream",
          "text": [
            "INFO:tensorflow:Assets written to: crop_model/assets\n"
          ],
          "name": "stdout"
        },
        {
          "output_type": "stream",
          "text": [
            "INFO:tensorflow:Assets written to: crop_model/assets\n"
          ],
          "name": "stderr"
        },
        {
          "output_type": "stream",
          "text": [
            "{'barley fields': 0, 'jute fields': 1, 'maze fields': 2, 'mustard fields': 3, 'paddy fields': 4, 'potato fields': 5, 'sugarcane fields': 6, 'tea fields': 7, 'tomato fields': 8, 'wheat fields': 9}\n",
            "{0: 'barley fields', 1: 'jute fields', 2: 'maze fields', 3: 'mustard fields', 4: 'paddy fields', 5: 'potato fields', 6: 'sugarcane fields', 7: 'tea fields', 8: 'tomato fields', 9: 'wheat fields'}\n"
          ],
          "name": "stdout"
        }
      ]
    },
    {
      "cell_type": "code",
      "metadata": {
        "id": "2yAgMnKR-LEF",
        "colab_type": "code",
        "outputId": "1fe549f7-6dd7-46cf-cbff-7f5120ac71e7",
        "colab": {
          "base_uri": "https://localhost:8080/",
          "height": 34
        }
      },
      "source": [
        "converter = tf.lite.TFLiteConverter.from_saved_model(saved_model_path)\n",
        "tflite_model = converter.convert()\n",
        "open(\"converted_model.tflite\", \"wb\").write(tflite_model)"
      ],
      "execution_count": 10,
      "outputs": [
        {
          "output_type": "execute_result",
          "data": {
            "text/plain": [
              "87245204"
            ]
          },
          "metadata": {
            "tags": []
          },
          "execution_count": 10
        }
      ]
    },
    {
      "cell_type": "code",
      "metadata": {
        "id": "EztfTkGh-9yH",
        "colab_type": "code",
        "outputId": "9a0c5eee-618f-4775-ff73-a21d6a8f83bc",
        "colab": {
          "base_uri": "https://localhost:8080/",
          "height": 84
        }
      },
      "source": [
        "interpreter = tf.lite.Interpreter(model_content=tflite_model)\n",
        "interpreter.allocate_tensors()\n",
        "\n",
        "# Print input shape and type\n",
        "print(interpreter.get_input_details()[0]['shape'])  # Example: [1 224 224 3]\n",
        "print(interpreter.get_input_details()[0]['dtype'])  # Example: <class 'numpy.float32'>\n",
        "\n",
        "# Print output shape and type\n",
        "print(interpreter.get_output_details()[0]['shape'])  # Example: [1 1000]\n",
        "print(interpreter.get_output_details()[0]['dtype'])  # Example: <class 'numpy.float32'>\n",
        "\n",
        "# This little helper wraps the TF Lite interpreter as a numpy-to-numpy function.\n",
        "def lite_model(images):\n",
        "  interpreter.allocate_tensors()\n",
        "  interpreter.set_tensor(interpreter.get_input_details()[0]['index'], images)\n",
        "  interpreter.invoke()\n",
        "  return interpreter.get_tensor(interpreter.get_output_details()[0]['index'])"
      ],
      "execution_count": 11,
      "outputs": [
        {
          "output_type": "stream",
          "text": [
            "[  1 299 299   3]\n",
            "<class 'numpy.float32'>\n",
            "[ 1 10]\n",
            "<class 'numpy.float32'>\n"
          ],
          "name": "stdout"
        }
      ]
    },
    {
      "cell_type": "code",
      "metadata": {
        "id": "h-sh3asMcIcZ",
        "colab_type": "code",
        "outputId": "9ba3f81b-e9af-4678-d2fc-c7219d6b7de8",
        "colab": {
          "base_uri": "https://localhost:8080/",
          "height": 34
        }
      },
      "source": [
        "#This is to test the actual_model not lite_model\n",
        "from keras.preprocessing import image\n",
        "import numpy as np\n",
        "from PIL import Image\n",
        "\n",
        "img=image.load_img(\"download.jpg\",target_size=(299,299))\n",
        "arr1=image.img_to_array(img)/255.0\n",
        "arr1 = np.expand_dims(arr1, axis=0)\n",
        "\n",
        "img=image.load_img(\"download2.jpg\",target_size=(299,299))\n",
        "arr2=image.img_to_array(img)/255.0\n",
        "arr2 = np.expand_dims(arr2, axis=0)\n",
        "\n",
        "img=image.load_img(\"download3.jpg\",target_size=(299,299))\n",
        "arr3=image.img_to_array(img)/255.0\n",
        "arr3 = np.expand_dims(arr3, axis=0)\n",
        "\n",
        "img=image.load_img(\"download4.jpg\",target_size=(299,299))\n",
        "arr4=image.img_to_array(img)/255.0\n",
        "arr4 = np.expand_dims(arr4, axis=0)\n",
        "\n",
        "img=image.load_img(\"download5.jpg\",target_size=(299,299))\n",
        "arr5=image.img_to_array(img)/255.0\n",
        "arr5 = np.expand_dims(arr5, axis=0)\n",
        "\n",
        "img=image.load_img(\"download6.jpg\",target_size=(299,299))\n",
        "arr6=image.img_to_array(img)/255.0\n",
        "arr6 = np.expand_dims(arr6, axis=0)\n",
        "\n",
        "img=image.load_img(\"download7.jpg\",target_size=(299,299))\n",
        "arr7=image.img_to_array(img)/255.0\n",
        "arr7 = np.expand_dims(arr7, axis=0)\n",
        "\n",
        "img=image.load_img(\"download8.jpg\",target_size=(299,299))\n",
        "arr8=image.img_to_array(img)/255.0\n",
        "arr8 = np.expand_dims(arr8, axis=0)\n",
        "\n",
        "images = np.vstack([arr1,arr2,arr3,arr4,arr5,arr6,arr7,arr8])\n",
        "classes = model.predict_classes(images, batch_size=10)\n",
        "print(classes)"
      ],
      "execution_count": 0,
      "outputs": [
        {
          "output_type": "stream",
          "text": [
            "[26 35 16 16 26 26  0 29]\n"
          ],
          "name": "stdout"
        }
      ]
    }
  ]
}